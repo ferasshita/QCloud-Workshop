{
 "cells": [
  {
   "metadata": {},
   "cell_type": "markdown",
   "source": "# Day 4 – Integrating Results into Programs",
   "id": "f9e4a85b74907161"
  },
  {
   "metadata": {},
   "cell_type": "markdown",
   "source": "## Install required libraries",
   "id": "737ffc0b1f3a50f7"
  },
  {
   "metadata": {},
   "cell_type": "code",
   "outputs": [],
   "execution_count": null,
   "source": "!pip install qiskit qiskit-ibm-runtime networkx",
   "id": "636001cf44edaf3d"
  },
  {
   "metadata": {
    "collapsed": true
   },
   "cell_type": "code",
   "outputs": [],
   "execution_count": null,
   "source": [
    "# Imports\n",
    "from qiskit import Aer, QuantumCircuit\n",
    "from qiskit.visualization import plot_histogram\n",
    "from qiskit_ibm_runtime import QiskitRuntimeService, Estimator, Session\n",
    "from qiskit.circuit.library import TwoLocal, QAOAAnsatz\n",
    "from qiskit.algorithms.optimizers import COBYLA\n",
    "from qiskit.primitives import Sampler\n",
    "from qiskit.quantum_info import Statevector\n",
    "import networkx as nx\n",
    "import matplotlib.pyplot as plt\n",
    "import json\n"
   ],
   "id": "f0c2e4fafa96bcc0"
  },
  {
   "metadata": {},
   "cell_type": "markdown",
   "source": "## Step 1: Build the MaxCut Problem",
   "id": "9ee27c52a8a9b57b"
  },
  {
   "metadata": {},
   "cell_type": "code",
   "outputs": [],
   "execution_count": null,
   "source": [
    "# Create a small graph\n",
    "G = nx.Graph()\n",
    "G.add_edges_from([(0, 1), (1, 2), (2, 3), (3, 0)])\n",
    "nx.draw(G, with_labels=True)\n"
   ],
   "id": "dffb912cd65e0c18"
  },
  {
   "metadata": {},
   "cell_type": "code",
   "outputs": [],
   "execution_count": null,
   "source": [
    "# Define MaxCut cost Hamiltonian\n",
    "from qiskit_optimization import QuadraticProgram\n",
    "from qiskit_optimization.applications import Maxcut\n",
    "\n",
    "maxcut = Maxcut(G)\n",
    "qp = maxcut.to_quadratic_program()\n",
    "\n",
    "print(qp.export_as_lp_string())\n"
   ],
   "id": "32f918f336eb0d29"
  },
  {
   "metadata": {},
   "cell_type": "markdown",
   "source": "## Step 2: Convert to QUBO and Build QAOA Circuit",
   "id": "46527135e04ee730"
  },
  {
   "metadata": {},
   "cell_type": "code",
   "outputs": [],
   "execution_count": null,
   "source": [
    "from qiskit_optimization.algorithms import QAOA\n",
    "from qiskit_optimization.converters import QuadraticProgramToQubo\n",
    "\n",
    "qubo = QuadraticProgramToQubo().convert(qp)\n",
    "\n",
    "sampler = Sampler()\n",
    "optimizer = COBYLA(maxiter=50)\n",
    "\n",
    "qaoa = QAOA(sampler=sampler, optimizer=optimizer, reps=2)\n",
    "result = qaoa.compute_minimum_eigenvalue(qubo.to_ising()[0])\n",
    "\n",
    "print(\"QAOA result:\", result)\n"
   ],
   "id": "ea9beaac32fffb0d"
  },
  {
   "metadata": {},
   "cell_type": "markdown",
   "source": "## Step 3: Run on IBM Quantum Backend",
   "id": "ca21498391546c3a"
  },
  {
   "metadata": {},
   "cell_type": "code",
   "outputs": [],
   "execution_count": null,
   "source": [
    "# Connect to IBM Quantum\n",
    "# Replace with your own API token\n",
    "QiskitRuntimeService.save_account(channel=\"ibm_quantum\", token=\"YOUR_API_TOKEN\", overwrite=True)\n",
    "service = QiskitRuntimeService()\n",
    "\n",
    "# Select backend\n",
    "backend = service.backend(\"ibm_osaka\")  # replace with your available backend\n",
    "session = Session(service=service, backend=backend)\n",
    "\n",
    "estimator = Estimator(session=session)\n",
    "qaoa_runtime = QAOA(estimator=estimator, optimizer=optimizer, reps=2)\n",
    "result_real = qaoa_runtime.compute_minimum_eigenvalue(qubo.to_ising()[0])\n",
    "\n",
    "session.close()\n",
    "\n",
    "# Export results as JSON\n",
    "results_json = json.dumps({\"optimal_value\": result_real.eigenvalue.real})\n",
    "print(\"Exported Results:\", results_json)\n"
   ],
   "id": "b09f8afb000b4a9"
  },
  {
   "metadata": {},
   "cell_type": "markdown",
   "source": "## Step 4: Use Results in Python Code",
   "id": "4f0e93ad7b07af76"
  },
  {
   "metadata": {},
   "cell_type": "code",
   "outputs": [],
   "execution_count": null,
   "source": [
    "# Example: Using QAOA output to determine the cut set\n",
    "bitstring = maxcut.sample_most_likely(result_real.eigenstate)\n",
    "cut_value = maxcut.max_cut_value(bitstring, G)\n",
    "\n",
    "print(\"Best bitstring:\", bitstring)\n",
    "print(\"Cut value:\", cut_value)\n",
    "\n",
    "# Use in your Python logic\n",
    "if cut_value > 2:\n",
    "    print(\"High cut found. Graph strongly bipartite.\")\n",
    "else:\n",
    "    print(\"Low cut found. Graph weakly connected.\")\n"
   ],
   "id": "a12579107c003bb6"
  },
  {
   "metadata": {},
   "cell_type": "markdown",
   "source": "## Step 5: Student-Designed Circuits Integration",
   "id": "eb7d97b63134409e"
  },
  {
   "metadata": {},
   "cell_type": "code",
   "outputs": [],
   "execution_count": null,
   "source": [
    "# Example of a student-designed circuit\n",
    "student_qc = QuantumCircuit(2)\n",
    "student_qc.h(0)\n",
    "student_qc.cx(0, 1)\n",
    "student_qc.measure_all()\n",
    "\n",
    "# Run on simulator\n",
    "sim = Aer.get_backend(\"qasm_simulator\")\n",
    "sim_result = sim.run(student_qc, shots=1024).result().get_counts()\n",
    "print(\"Simulator counts:\", sim_result)\n",
    "\n",
    "# Integrate with Python logic\n",
    "if sim_result.get(\"11\", 0) > 400:\n",
    "    print(\"Circuit produced strong entanglement.\")\n",
    "else:\n",
    "    print(\"Weak entanglement detected.\")\n"
   ],
   "id": "7145abce0124b533"
  }
 ],
 "metadata": {
  "kernelspec": {
   "display_name": "Python 3",
   "language": "python",
   "name": "python3"
  },
  "language_info": {
   "codemirror_mode": {
    "name": "ipython",
    "version": 2
   },
   "file_extension": ".py",
   "mimetype": "text/x-python",
   "name": "python",
   "nbconvert_exporter": "python",
   "pygments_lexer": "ipython2",
   "version": "2.7.6"
  }
 },
 "nbformat": 4,
 "nbformat_minor": 5
}
