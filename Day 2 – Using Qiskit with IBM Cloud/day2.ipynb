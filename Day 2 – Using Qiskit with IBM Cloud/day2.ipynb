{
 "cells": [
  {
   "metadata": {},
   "cell_type": "markdown",
   "source": "# Day 2 – Using Qiskit with IBM Cloud",
   "id": "301a8051d0a2cd96"
  },
  {
   "metadata": {},
   "cell_type": "markdown",
   "source": "## Import libraries",
   "id": "b2b00c58586c5a9d"
  },
  {
   "metadata": {},
   "cell_type": "code",
   "outputs": [],
   "execution_count": null,
   "source": [
    "from qiskit import QuantumCircuit, transpile, assemble, Aer, execute\n",
    "from qiskit.visualization import plot_histogram\n",
    "import matplotlib.pyplot as plt"
   ],
   "id": "5f246057c575ec53"
  },
  {
   "metadata": {},
   "cell_type": "markdown",
   "source": "## Create a quantum circuit",
   "id": "92a2f732cefc8f9c"
  },
  {
   "metadata": {},
   "cell_type": "code",
   "outputs": [],
   "execution_count": null,
   "source": [
    "# Create a Quantum Circuit with 2 qubits and 2 classical bits\n",
    "qc = QuantumCircuit(2, 2)\n",
    "\n",
    "# Build Bell state\n",
    "qc.h(0)         # Apply Hadamard gate on qubit 0\n",
    "qc.cx(0, 1)     # Apply CNOT gate with control qubit 0 and target qubit 1\n",
    "\n",
    "# Measure both qubits\n",
    "qc.measure([0, 1], [0, 1])\n",
    "\n",
    "# Draw circuit\n",
    "qc.draw('mpl')"
   ],
   "id": "b7c56f2ba83213d7"
  },
  {
   "metadata": {},
   "cell_type": "markdown",
   "source": "## Run on the simulator and print the results",
   "id": "156601ac1b7cb920"
  },
  {
   "metadata": {},
   "cell_type": "code",
   "outputs": [],
   "execution_count": null,
   "source": [
    "# Run on the simulator\n",
    "simulator = Aer.get_backend('qasm_simulator')\n",
    "\n",
    "# Execute the circuit\n",
    "job = execute(qc, simulator, shots=1024)\n",
    "\n",
    "# Get results\n",
    "result = job.result()\n",
    "counts = result.get_counts(qc)\n",
    "\n",
    "# Print results\n",
    "print(\"Measurement counts:\", counts)\n",
    "\n",
    "# Plot histogram\n",
    "plot_histogram(counts)\n",
    "plt.show()"
   ],
   "id": "63026a3ee2cfb3ed"
  }
 ],
 "metadata": {
  "kernelspec": {
   "display_name": "Python 3",
   "language": "python",
   "name": "python3"
  },
  "language_info": {
   "codemirror_mode": {
    "name": "ipython",
    "version": 2
   },
   "file_extension": ".py",
   "mimetype": "text/x-python",
   "name": "python",
   "nbconvert_exporter": "python",
   "pygments_lexer": "ipython2",
   "version": "2.7.6"
  }
 },
 "nbformat": 4,
 "nbformat_minor": 5
}
