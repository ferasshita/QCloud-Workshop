{
 "cells": [
  {
   "metadata": {},
   "cell_type": "markdown",
   "source": "# Import Qiskit",
   "id": "6726d6e76134f4f2"
  },
  {
   "metadata": {
    "ExecuteTime": {
     "end_time": "2025-10-06T13:57:42.867443Z",
     "start_time": "2025-10-06T13:57:09.658776Z"
    }
   },
   "cell_type": "code",
   "source": "!pip install qiskit",
   "id": "bc77328f6bf97dc4",
   "outputs": [
    {
     "name": "stdout",
     "output_type": "stream",
     "text": [
      "^C\n"
     ]
    }
   ],
   "execution_count": 1
  },
  {
   "metadata": {},
   "cell_type": "markdown",
   "source": "## Import Qiskit",
   "id": "da4e45e65c0dd29e"
  },
  {
   "metadata": {
    "ExecuteTime": {
     "end_time": "2025-10-06T13:57:45.271581Z",
     "start_time": "2025-10-06T13:57:45.224471Z"
    }
   },
   "cell_type": "code",
   "source": [
    "from qiskit import QuantumCircuit, Aer, execute\n",
    "from qiskit.visualization import plot_histogram"
   ],
   "id": "5fb9ca0e07755eab",
   "outputs": [
    {
     "ename": "ModuleNotFoundError",
     "evalue": "No module named 'qiskit'",
     "output_type": "error",
     "traceback": [
      "\u001B[31m---------------------------------------------------------------------------\u001B[39m",
      "\u001B[31mModuleNotFoundError\u001B[39m                       Traceback (most recent call last)",
      "\u001B[36mCell\u001B[39m\u001B[36m \u001B[39m\u001B[32mIn[3]\u001B[39m\u001B[32m, line 1\u001B[39m\n\u001B[32m----> \u001B[39m\u001B[32m1\u001B[39m \u001B[38;5;28;01mfrom\u001B[39;00m\u001B[38;5;250m \u001B[39m\u001B[34;01mqiskit\u001B[39;00m\u001B[38;5;250m \u001B[39m\u001B[38;5;28;01mimport\u001B[39;00m QuantumCircuit, Aer, execute\n\u001B[32m      2\u001B[39m \u001B[38;5;28;01mfrom\u001B[39;00m\u001B[38;5;250m \u001B[39m\u001B[34;01mqiskit\u001B[39;00m\u001B[34;01m.\u001B[39;00m\u001B[34;01mvisualization\u001B[39;00m\u001B[38;5;250m \u001B[39m\u001B[38;5;28;01mimport\u001B[39;00m plot_histogram\n",
      "\u001B[31mModuleNotFoundError\u001B[39m: No module named 'qiskit'"
     ]
    }
   ],
   "execution_count": 3
  },
  {
   "metadata": {},
   "cell_type": "markdown",
   "source": "## Create the Quantum circuit",
   "id": "52e8e961bca95e5b"
  },
  {
   "metadata": {},
   "cell_type": "code",
   "outputs": [],
   "execution_count": null,
   "source": [
    "# Create a quantum circuit with 1 qubit and 1 classical bit\n",
    "qc = QuantumCircuit(1, 1)\n",
    "\n",
    "# Apply a Hadamard gate to put qubit in superposition\n",
    "qc.h(0)\n",
    "\n",
    "# Measure the qubit\n",
    "qc.measure(0, 0)\n",
    "\n",
    "# Draw the circuit\n",
    "qc.draw('mpl')  # You can also use 'text' instead of 'mpl'"
   ],
   "id": "32356500249040ac"
  },
  {
   "metadata": {},
   "cell_type": "markdown",
   "source": "## Run the simulator",
   "id": "20b54be16fba88f1"
  },
  {
   "metadata": {},
   "cell_type": "code",
   "outputs": [],
   "execution_count": null,
   "source": [
    "# Use Aer's qasm_simulator\n",
    "simulator = Aer.get_backend('qasm_simulator')\n",
    "\n",
    "# Execute the circuit on the simulator\n",
    "job = execute(qc, simulator, shots=1024)\n",
    "\n",
    "# Grab results from the job\n",
    "result = job.result()"
   ],
   "id": "d0d3bc35327a5913"
  },
  {
   "metadata": {},
   "cell_type": "markdown",
   "source": "## Plot the results",
   "id": "b2766cb79e98f91d"
  },
  {
   "metadata": {
    "collapsed": true
   },
   "cell_type": "code",
   "outputs": [],
   "execution_count": null,
   "source": [
    "# Get the counts (number of 0s and 1s measured)\n",
    "counts = result.get_counts(qc)\n",
    "print(\"Measurement results:\", counts)\n",
    "\n",
    "# Plot a histogram\n",
    "plot_histogram(counts)\n"
   ],
   "id": "79313814c14fb54b"
  }
 ],
 "metadata": {
  "kernelspec": {
   "display_name": "Python 3",
   "language": "python",
   "name": "python3"
  },
  "language_info": {
   "codemirror_mode": {
    "name": "ipython",
    "version": 2
   },
   "file_extension": ".py",
   "mimetype": "text/x-python",
   "name": "python",
   "nbconvert_exporter": "python",
   "pygments_lexer": "ipython2",
   "version": "2.7.6"
  }
 },
 "nbformat": 4,
 "nbformat_minor": 5
}
