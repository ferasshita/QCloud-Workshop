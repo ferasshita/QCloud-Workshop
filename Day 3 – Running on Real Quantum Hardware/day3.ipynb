{
 "cells": [
  {
   "metadata": {},
   "cell_type": "markdown",
   "source": "# Day 3 – Running on Real Quantum Hardware",
   "id": "7f28c38b854e74d1"
  },
  {
   "metadata": {},
   "cell_type": "markdown",
   "source": "## Install Qiskit and IBM provider",
   "id": "d663d01a69237336"
  },
  {
   "metadata": {},
   "cell_type": "code",
   "outputs": [],
   "execution_count": null,
   "source": "!pip install qiskit qiskit-ibm-runtime",
   "id": "fe89109323797e75"
  },
  {
   "metadata": {
    "collapsed": true
   },
   "cell_type": "code",
   "outputs": [],
   "execution_count": null,
   "source": [
    "# Import libraries\n",
    "from qiskit import QuantumCircuit, Aer, transpile, execute\n",
    "from qiskit.visualization import plot_histogram\n",
    "from qiskit_ibm_runtime import QiskitRuntimeService\n",
    "import json\n",
    "import matplotlib.pyplot as plt\n"
   ],
   "id": "457c72e2f56b593b"
  },
  {
   "metadata": {},
   "cell_type": "markdown",
   "source": "## Authenticate and load IBM Quantum account",
   "id": "fcdff55c18de9fdb"
  },
  {
   "metadata": {},
   "cell_type": "code",
   "outputs": [],
   "execution_count": null,
   "source": [
    "\n",
    "# Replace 'YOUR_API_TOKEN' with your actual IBM Quantum API token\n",
    "QiskitRuntimeService.save_account(channel=\"ibm_quantum\", token=\"YOUR_API_TOKEN\", overwrite=True)\n",
    "service = QiskitRuntimeService(channel=\"ibm_quantum\")\n",
    "\n",
    "# List available backends\n",
    "backends = service.backends()\n",
    "print(\"Available backends:\")\n",
    "for b in backends:\n",
    "    print(\"-\", b.name)\n"
   ],
   "id": "6ef415c0654dd712"
  },
  {
   "metadata": {},
   "cell_type": "markdown",
   "source": "## Build a simple Grover’s algorithm circuit (1-qubit example)",
   "id": "dd4777ae597a813d"
  },
  {
   "metadata": {},
   "cell_type": "code",
   "outputs": [],
   "execution_count": null,
   "source": [
    "\n",
    "qc = QuantumCircuit(1, 1)\n",
    "\n",
    "# Oracle (mark |1>)\n",
    "qc.x(0)\n",
    "qc.h(0)\n",
    "qc.z(0)\n",
    "qc.h(0)\n",
    "qc.x(0)\n",
    "\n",
    "# Diffusion\n",
    "qc.h(0)\n",
    "qc.z(0)\n",
    "qc.h(0)\n",
    "\n",
    "# Measure\n",
    "qc.measure(0, 0)\n",
    "\n",
    "qc.draw('mpl')\n"
   ],
   "id": "bb1640063e41a113"
  },
  {
   "metadata": {},
   "cell_type": "markdown",
   "source": "## Run on simulator",
   "id": "8191c947b883131f"
  },
  {
   "metadata": {},
   "cell_type": "code",
   "outputs": [],
   "execution_count": null,
   "source": [
    "sim_backend = Aer.get_backend('qasm_simulator')\n",
    "sim_job = execute(qc, sim_backend, shots=1024)\n",
    "sim_result = sim_job.result()\n",
    "sim_counts = sim_result.get_counts(qc)\n",
    "print(\"Simulator counts:\", sim_counts)\n"
   ],
   "id": "7b9fc0836bcd2ab1"
  },
  {
   "metadata": {},
   "cell_type": "markdown",
   "source": "## Run on real IBM Quantum backend",
   "id": "49ed7e4bacbcd8dd"
  },
  {
   "metadata": {},
   "cell_type": "code",
   "outputs": [],
   "execution_count": null,
   "source": [
    "# Run on real IBM Quantum backend\n",
    "real_backend = service.backend(\"ibm_osaka\")  # Replace with available backend\n",
    "transpiled = transpile(qc, real_backend)\n",
    "\n",
    "real_job = service.run(program_id=\"circuit-runner\", inputs={\"circuits\": transpiled, \"shots\": 1024}, backend=real_backend)\n",
    "real_result = real_job.result()\n",
    "real_counts = real_result[0].data[\"counts\"]\n",
    "\n",
    "# Convert to JSON\n",
    "real_counts_json = json.dumps(real_counts)\n",
    "print(\"Real device counts (JSON):\", real_counts_json)\n"
   ],
   "id": "96c1d26414caf26c"
  },
  {
   "metadata": {},
   "cell_type": "markdown",
   "source": "## Run on real IBM Quantum backend",
   "id": "813c34c7c7d090ff"
  },
  {
   "metadata": {},
   "cell_type": "code",
   "outputs": [],
   "execution_count": null,
   "source": [
    "# Compare simulator vs real device\n",
    "print(\"Simulator:\", sim_counts)\n",
    "print(\"Real device:\", real_counts)\n",
    "\n",
    "plot_histogram([sim_counts, real_counts], legend=[\"Simulator\", \"Real Device\"])\n",
    "plt.show()\n"
   ],
   "id": "26cadc79320a4774"
  }
 ],
 "metadata": {
  "kernelspec": {
   "display_name": "Python 3",
   "language": "python",
   "name": "python3"
  },
  "language_info": {
   "codemirror_mode": {
    "name": "ipython",
    "version": 2
   },
   "file_extension": ".py",
   "mimetype": "text/x-python",
   "name": "python",
   "nbconvert_exporter": "python",
   "pygments_lexer": "ipython2",
   "version": "2.7.6"
  }
 },
 "nbformat": 4,
 "nbformat_minor": 5
}
